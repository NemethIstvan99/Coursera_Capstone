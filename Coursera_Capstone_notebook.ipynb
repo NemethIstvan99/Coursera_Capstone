{
  "cells":[
    {
      "cell_type":"markdown",
      "source":[
        "This jupyter notebook will be used mainly for the Coursera Capstone project"
      ],
      "metadata":{
        
      }
    },
    {
      "cell_type":"code",
      "source":[
        "import pandas as pd\n",
        "import numpy as np\n",
        "print('Hello Capstone Project Course!')"
      ],
      "execution_count":3,
      "outputs":[
        {
          "name":"stdout",
          "text":[
            "Hello Capstone Project Course!\n"
          ],
          "output_type":"stream"
        }
      ],
      "metadata":{
        
      }
    }
  ],
  "metadata":{
    
  },
  "nbformat":4,
  "nbformat_minor":0
}